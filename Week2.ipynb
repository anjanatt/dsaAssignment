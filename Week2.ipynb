{
 "cells": [
  {
   "cell_type": "markdown",
   "metadata": {
    "id": "4z_Z-K1tlrS7"
   },
   "source": [
    "## 1. Complete the following code to find the area of an equilateral triangle. Output should be as displayed"
   ]
  },
  {
   "cell_type": "code",
   "execution_count": 14,
   "metadata": {
    "colab": {
     "base_uri": "https://localhost:8080/"
    },
    "id": "rP2qFD_SlrS_",
    "outputId": "845547c2-e111-4600-cd08-2f79d90d6751"
   },
   "outputs": [
    {
     "name": "stdout",
     "output_type": "stream",
     "text": [
      "Enter the side of the equilateral triangle: 4\n",
      "Area: 6.928203230275509\n"
     ]
    }
   ],
   "source": [
    "import math\n",
    "side = float(input(\"Enter the side of the equilateral triangle: \"))\n",
    "area = (math.sqrt(3)/4)*pow(side,2)\n",
    "print(\"Area=\",area)\n"
   ]
  },
  {
   "cell_type": "markdown",
   "metadata": {
    "id": "TjVKjIfclrTB"
   },
   "source": [
    "## 2. Write a program to count the number of each characters in a string"
   ]
  },
  {
   "cell_type": "code",
   "execution_count": 10,
   "metadata": {
    "colab": {
     "base_uri": "https://localhost:8080/"
    },
    "id": "JY5seVUQlrTC",
    "outputId": "1eab87ce-e3d2-438f-de84-7d1683510f37"
   },
   "outputs": [
    {
     "name": "stdout",
     "output_type": "stream",
     "text": [
      "Enter string:hellooooWorld\n",
      "l:3,d:1,e:1,h:1,o:5,W:1,r:1,"
     ]
    }
   ],
   "source": [
    "data=input(\"Enter string:\")\n",
    "ch=list(set(data))\n",
    "for i in ch:\n",
    "    print(\"{0}:{1}\".format(i,data.count(i)), end=\",\")"
   ]
  },
  {
   "cell_type": "markdown",
   "metadata": {
    "id": "l3LCULfklrTD"
   },
   "source": [
    "## Write a program to find the area and perimeter of a rectangle using functions"
   ]
  },
  {
   "cell_type": "code",
   "execution_count": 3,
   "metadata": {
    "colab": {
     "base_uri": "https://localhost:8080/"
    },
    "id": "8haQD8edlrTD",
    "outputId": "c523587e-a313-4a16-9943-e619b3183cfe"
   },
   "outputs": [
    {
     "name": "stdout",
     "output_type": "stream",
     "text": [
      "Length:3\n",
      "Breadth:4\n",
      "Area of rectangle: 12\n",
      "perimeter of rectangle: 14\n"
     ]
    }
   ],
   "source": [
    "def area(l,b):\n",
    "  print(\"Area of rectangle:\",l*b)\n",
    "  print(\"perimeter of rectangle:\",2*(l+b))\n",
    "\n",
    "len=int(input(\"Length:\"))\n",
    "bre=int(input(\"Breadth:\"))\n",
    "area(len,bre)"
   ]
  },
  {
   "cell_type": "markdown",
   "metadata": {
    "id": "JHK4ZdsflrTE"
   },
   "source": [
    "## 4. Write a program to print the fibonacci series till a specified number"
   ]
  },
  {
   "cell_type": "code",
   "execution_count": 9,
   "metadata": {
    "colab": {
     "base_uri": "https://localhost:8080/"
    },
    "id": "LyBEj-4SlrTE",
    "outputId": "3d7028d2-d4a6-4906-bb86-1a8c5b095c43"
   },
   "outputs": [
    {
     "name": "stdout",
     "output_type": "stream",
     "text": [
      "Fibonacci series:40\n",
      "0 1 1 2 3 5 8 13 21 34 "
     ]
    }
   ],
   "source": [
    "n=int(input(\"Fibonacci series:\"))\n",
    "f=0\n",
    "s=1\n",
    "t=1\n",
    "while f < n:\n",
    "    print(f, end = \" \")\n",
    "    f=s\n",
    "    s=t\n",
    "    t=f+s"
   ]
  },
  {
   "cell_type": "markdown",
   "metadata": {
    "id": "u4uBUcQKlrTE"
   },
   "source": [
    "## 5. Complete the following code to find the minimum of 3 number using cinditional statements. Output should be as displayed"
   ]
  },
  {
   "cell_type": "code",
   "execution_count": 5,
   "metadata": {
    "colab": {
     "base_uri": "https://localhost:8080/"
    },
    "id": "XdZwrZjIlrTF",
    "outputId": "01dc940b-f104-4cfd-bf4f-2c3b23d822c8"
   },
   "outputs": [
    {
     "name": "stdout",
     "output_type": "stream",
     "text": [
      "Enter three numbers followed by  : 12 23 45\n",
      "First number : 12\n",
      "Second number : 23\n",
      "Third number : 45\n",
      "12 is the smallest\n"
     ]
    }
   ],
   "source": [
    "a,b,c = input(\"Enter three numbers followed by  : \").split()\n",
    "print(\"First number :\",a)\n",
    "print(\"Second number :\",b)\n",
    "print(\"Third number :\",c)\n",
    "if a==b==c:\n",
    "    print(\"Entered numbers are equal!!!\")\n",
    "else:\n",
    "    if(a<b and a<c):\n",
    "        print(a,\"is the smallest\")\n",
    "    elif(b<a and b<c):\n",
    "        print(b,\"is the smallest\")\n",
    "    elif(c<a and c<b):\n",
    "        print(c,\"is the smallest\")"
   ]
  },
  {
   "cell_type": "markdown",
   "metadata": {
    "id": "aR_CnToWlrTG"
   },
   "source": [
    "## 6. Write a program to print star pyramind. The number of rows should be taken as input from the user"
   ]
  },
  {
   "cell_type": "code",
   "execution_count": 51,
   "metadata": {
    "colab": {
     "base_uri": "https://localhost:8080/"
    },
    "id": "M37A-buplrTG",
    "outputId": "e6d4727a-c20e-4c17-dc0f-81e2815afc52"
   },
   "outputs": [
    {
     "name": "stdout",
     "output_type": "stream",
     "text": [
      "Number of lines:6\n",
      "     * \n",
      "    * * \n",
      "   * * * \n",
      "  * * * * \n",
      " * * * * * \n",
      "* * * * * * \n"
     ]
    }
   ],
   "source": [
    "n=int(input(\"Number of lines:\"))\n",
    "for i in range (1,n+1):\n",
    "    for j in range (n-i):\n",
    "        print(\" \",end=\"\")\n",
    "    for j in range (i):\n",
    "        print(\"* \",end=\"\")\n",
    "    print(\"\")"
   ]
  },
  {
   "cell_type": "markdown",
   "metadata": {
    "id": "tlY6aFWBlrTH"
   },
   "source": [
    "## 7. Complete the following code to convert hour into seconds. Output should be as displayed"
   ]
  },
  {
   "cell_type": "code",
   "execution_count": 25,
   "metadata": {
    "colab": {
     "base_uri": "https://localhost:8080/"
    },
    "id": "YOZQFk7FlrTH",
    "outputId": "cf0c0a66-2432-4ed3-a742-0b032cf28bc2"
   },
   "outputs": [
    {
     "name": "stdout",
     "output_type": "stream",
     "text": [
      "Please enter hour:12\n",
      "12  Hour is equal to 43200  Seconds\n"
     ]
    }
   ],
   "source": [
    "def to_seconds(t):\n",
    "    t=t*60*60\n",
    "    return t\n",
    "time_in_hours = int(input(\"Please enter hour:\"))\n",
    "print(time_in_hours ,\" Hour is equal to\" ,to_seconds(time_in_hours) ,\" Seconds\")"
   ]
  },
  {
   "cell_type": "markdown",
   "metadata": {
    "id": "CnYorNiLlrTI"
   },
   "source": [
    "## 8. Write a program to print multiplication table as below"
   ]
  },
  {
   "cell_type": "code",
   "execution_count": 8,
   "metadata": {
    "colab": {
     "base_uri": "https://localhost:8080/"
    },
    "id": "dPQqDPuDlrTI",
    "outputId": "0d1a50d2-b218-4434-ab0a-12149f4583bd"
   },
   "outputs": [
    {
     "name": "stdout",
     "output_type": "stream",
     "text": [
      "Enter a number to find the multiplication table:4\n",
      "1 X 4 = 4\n",
      "2 X 4 = 8\n",
      "3 X 4 = 12\n",
      "4 X 4 = 16\n",
      "5 X 4 = 20\n",
      "6 X 4 = 24\n",
      "7 X 4 = 28\n",
      "8 X 4 = 32\n",
      "9 X 4 = 36\n",
      "10 X 4 = 40\n"
     ]
    }
   ],
   "source": [
    "num=int(input(\"Multiplication table:\"))\n",
    "for i in range (1,11):\n",
    "  print(\"{0} X {1} = {2}\".format(i,num,i*num))"
   ]
  },
  {
   "cell_type": "markdown",
   "metadata": {
    "id": "Fiaez8iblrTI"
   },
   "source": [
    "## 9. Write a program to take your 5 favorite food as list and print each as 'I like Biriyani'"
   ]
  },
  {
   "cell_type": "code",
   "execution_count": 8,
   "metadata": {
    "colab": {
     "base_uri": "https://localhost:8080/"
    },
    "id": "39W1zFX7lrTJ",
    "outputId": "0ca834a2-2005-4004-e5b5-e4a8925ac70f"
   },
   "outputs": [
    {
     "name": "stdout",
     "output_type": "stream",
     "text": [
      "Foods:cakes chickenfry biriyani friedrice icecream\n",
      "I like cakes\n",
      "I like chickenfry\n",
      "I like biriyani\n",
      "I like friedrice\n",
      "I like icecream\n"
     ]
    }
   ],
   "source": [
    "foods=list(map(str,input(\"Foods:\").split()))\n",
    "for i in foods:\n",
    "  print(\"I like\",i)"
   ]
  },
  {
   "cell_type": "markdown",
   "metadata": {
    "id": "3vlcDNNEP7d_"
   },
   "source": [
    "## 10. Find error(s) in the following code(if any) and rewrite code.\n",
    "\n"
   ]
  },
  {
   "cell_type": "code",
   "execution_count": 7,
   "metadata": {
    "colab": {
     "base_uri": "https://localhost:8080/"
    },
    "id": "coREkcY3P9sG",
    "outputId": "63590952-4c4c-444b-f2cc-b1d207a3f16e"
   },
   "outputs": [
    {
     "name": "stdout",
     "output_type": "stream",
     "text": [
      "Enter value of x:5\n",
      "They are unequal\n",
      "They are unequal\n",
      "They are unequal\n",
      "They are unequal\n",
      "They are unequal\n",
      "They are equal\n",
      "They are unequal\n",
      "They are unequal\n",
      "They are unequal\n",
      "They are unequal\n"
     ]
    }
   ],
   "source": [
    "num= int(input(\"Enter value of x:\"))\n",
    "for i in range (0,10):\n",
    "     if num==i:\n",
    "          print(\"They are equal\")\n",
    "     else:\n",
    "          print( \"They are unequal\")"
   ]
  }
 ],
 "metadata": {
  "colab": {
   "collapsed_sections": [],
   "name": "Q&A_activity_student_file.ipynb",
   "provenance": []
  },
  "kernelspec": {
   "display_name": "Python 3",
   "language": "python",
   "name": "python3"
  },
  "language_info": {
   "codemirror_mode": {
    "name": "ipython",
    "version": 3
   },
   "file_extension": ".py",
   "mimetype": "text/x-python",
   "name": "python",
   "nbconvert_exporter": "python",
   "pygments_lexer": "ipython3",
   "version": "3.8.8"
  }
 },
 "nbformat": 4,
 "nbformat_minor": 1
}
